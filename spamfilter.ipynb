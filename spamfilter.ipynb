{
 "cells": [
  {
   "cell_type": "code",
   "execution_count": 3,
   "id": "9a95124c-8a85-44b5-9b25-938ea5ace3b5",
   "metadata": {},
   "outputs": [
    {
     "name": "stdout",
     "output_type": "stream",
     "text": [
      "              precision    recall  f1-score   support\n",
      "\n",
      "           0       0.91      1.00      0.95       742\n",
      "           1       1.00      0.74      0.85       293\n",
      "\n",
      "    accuracy                           0.92      1035\n",
      "   macro avg       0.95      0.87      0.90      1035\n",
      "weighted avg       0.93      0.92      0.92      1035\n",
      "\n",
      "Accuracy: 0.9246376811594202\n"
     ]
    }
   ],
   "source": [
    "from sklearn.pipeline import Pipeline\n",
    "from sklearn.naive_bayes import MultinomialNB\n",
    "from sklearn.feature_extraction.text import TfidfVectorizer\n",
    "from sklearn.model_selection import train_test_split\n",
    "from sklearn.metrics import classification_report, accuracy_score\n",
    "\n",
    "# Load your dataset\n",
    "df = pd.read_csv('spam.csv')\n",
    "\n",
    "# Extract features and labels\n",
    "X = df['text']  # Text content\n",
    "y = df['label_num']  # Numerical labels\n",
    "\n",
    "# Split data into train and test sets\n",
    "X_train, X_test, y_train, y_test = train_test_split(X, y, test_size=0.2, random_state=42)\n",
    "\n",
    "# Define the pipeline\n",
    "pipeline = Pipeline([\n",
    "    ('vectorizer', TfidfVectorizer(stop_words='english', max_df=0.7)),\n",
    "    ('classifier', MultinomialNB())\n",
    "])\n",
    "\n",
    "# Fit the pipeline to the training data\n",
    "pipeline.fit(X_train, y_train)\n",
    "\n",
    "# Predict on the test set\n",
    "y_pred = pipeline.predict(X_test)\n",
    "\n",
    "# Evaluate the model\n",
    "print(classification_report(y_test, y_pred))\n",
    "print(\"Accuracy:\", accuracy_score(y_test, y_pred))\n"
   ]
  },
  {
   "cell_type": "code",
   "execution_count": 5,
   "id": "72632928-e326-4b68-9d37-b41063b4d4a2",
   "metadata": {},
   "outputs": [
    {
     "name": "stdout",
     "output_type": "stream",
     "text": [
      "Overall Test Set Evaluation:\n",
      "              precision    recall  f1-score   support\n",
      "\n",
      "           0       0.88      1.00      0.94       726\n",
      "           1       1.00      0.69      0.81       311\n",
      "\n",
      "    accuracy                           0.91      1037\n",
      "   macro avg       0.94      0.84      0.88      1037\n",
      "weighted avg       0.92      0.91      0.90      1037\n",
      "\n",
      "Accuracy: 0.90549662487946\n",
      "\n",
      "New Sample Evaluation:\n",
      "              precision    recall  f1-score   support\n",
      "\n",
      "           0       0.00      0.00      0.00         0\n",
      "           1       1.00      0.50      0.67        10\n",
      "\n",
      "    accuracy                           0.50        10\n",
      "   macro avg       0.50      0.25      0.33        10\n",
      "weighted avg       1.00      0.50      0.67        10\n",
      "\n",
      "Accuracy on new samples: 0.5\n"
     ]
    },
    {
     "name": "stderr",
     "output_type": "stream",
     "text": [
      "/opt/anaconda3/lib/python3.12/site-packages/sklearn/metrics/_classification.py:1509: UndefinedMetricWarning: Recall is ill-defined and being set to 0.0 in labels with no true samples. Use `zero_division` parameter to control this behavior.\n",
      "  _warn_prf(average, modifier, f\"{metric.capitalize()} is\", len(result))\n",
      "/opt/anaconda3/lib/python3.12/site-packages/sklearn/metrics/_classification.py:1509: UndefinedMetricWarning: Recall is ill-defined and being set to 0.0 in labels with no true samples. Use `zero_division` parameter to control this behavior.\n",
      "  _warn_prf(average, modifier, f\"{metric.capitalize()} is\", len(result))\n",
      "/opt/anaconda3/lib/python3.12/site-packages/sklearn/metrics/_classification.py:1509: UndefinedMetricWarning: Recall is ill-defined and being set to 0.0 in labels with no true samples. Use `zero_division` parameter to control this behavior.\n",
      "  _warn_prf(average, modifier, f\"{metric.capitalize()} is\", len(result))\n"
     ]
    }
   ],
   "source": [
    "import pandas as pd\n",
    "from sklearn.model_selection import train_test_split\n",
    "from sklearn.feature_extraction.text import TfidfVectorizer\n",
    "from sklearn.naive_bayes import MultinomialNB\n",
    "from sklearn.metrics import classification_report, accuracy_score\n",
    "\n",
    "# Define a list of sample texts with bold, italics, and emojis\n",
    "sample_texts = [\n",
    "    \"Congratulations! You've won a free **iPhone**! Click here to claim your prize. 📱🎉\",\n",
    "    \"Dear customer, your account has been compromised. Please visit our **secure** site to reset your password.\",\n",
    "    \"Get your free trial of our service! **Limited time offer!** 🔥🔥\",\n",
    "    \"Your account will be suspended. *Act now* to avoid losing access. 🚨🚨\",\n",
    "    \"Special offer just for you! **Free shipping** on all orders over $50! 🛍️✨\",\n",
    "    \"Hurry up! This is your last chance to get **50% OFF** on all items. 🎁💸\",\n",
    "    \"⚠️ Warning: Your email account will be locked if you don't update your security settings immediately.\",\n",
    "    \"You've been selected for a **VIP** experience! 🎉 Click here to learn more. ⭐️\",\n",
    "    \"Get *instant access* to our premium content. Sign up now! 📚✨\",\n",
    "    \"Your package is on hold. Please confirm your address by clicking **here**. 🚚📦\",\n",
    "]\n",
    "\n",
    "# Assign corresponding labels (1 for spam/phishing, 0 for legitimate)\n",
    "labels = [1, 1, 1, 1, 1, 1, 1, 1, 1, 1]  # Assuming all are spam/phishing for this example\n",
    "\n",
    "# Create a DataFrame for the new samples\n",
    "df_sample = pd.DataFrame({\n",
    "    'text': sample_texts,\n",
    "    'label_num': labels  # Use numerical labels directly\n",
    "})\n",
    "\n",
    "# Load the existing dataset\n",
    "df_existing = pd.read_csv('spam.csv')\n",
    "\n",
    "# Concatenate the new sample data with the existing data\n",
    "df_combined = pd.concat([df_existing, df_sample], ignore_index=True)\n",
    "\n",
    "# Save the combined data back to CSV\n",
    "df_combined.to_csv('updated_spam_phishing_data.csv', index=False)\n",
    "\n",
    "# Extract features and labels from the updated dataset\n",
    "X = df_combined['text']  # Text content\n",
    "y = df_combined['label_num']  # Numerical labels\n",
    "\n",
    "# Split data into train and test sets\n",
    "X_train, X_test, y_train, y_test = train_test_split(X, y, test_size=0.2, random_state=42)\n",
    "\n",
    "# Convert text to TF-IDF features\n",
    "vectorizer = TfidfVectorizer(stop_words='english', max_df=0.7)\n",
    "X_train_tfidf = vectorizer.fit_transform(X_train)\n",
    "X_test_tfidf = vectorizer.transform(X_test)\n",
    "\n",
    "# Train a Naive Bayes classifier\n",
    "model = MultinomialNB()\n",
    "model.fit(X_train_tfidf, y_train)\n",
    "\n",
    "# Predict on the test set\n",
    "y_pred = model.predict(X_test_tfidf)\n",
    "\n",
    "# Evaluate the model on the entire test set\n",
    "print(\"Overall Test Set Evaluation:\")\n",
    "print(classification_report(y_test, y_pred))\n",
    "print(\"Accuracy:\", accuracy_score(y_test, y_pred))\n",
    "\n",
    "# --- New Section to Evaluate Only the New Samples ---\n",
    "\n",
    "# Identify the indices of the new samples (these are the last 10 rows in df_combined)\n",
    "new_sample_indices = range(len(df_combined) - len(df_sample), len(df_combined))\n",
    "\n",
    "# Extract the new samples from the test set\n",
    "X_new_samples = df_combined.iloc[new_sample_indices]['text']\n",
    "y_new_samples = df_combined.iloc[new_sample_indices]['label_num']\n",
    "\n",
    "# Transform the new samples using the same vectorizer\n",
    "X_new_samples_tfidf = vectorizer.transform(X_new_samples)\n",
    "\n",
    "# Predict on the new samples\n",
    "y_new_samples_pred = model.predict(X_new_samples_tfidf)\n",
    "\n",
    "# Evaluate the model on the new samples\n",
    "print(\"\\nNew Sample Evaluation:\")\n",
    "print(classification_report(y_new_samples, y_new_samples_pred))\n",
    "print(\"Accuracy on new samples:\", accuracy_score(y_new_samples, y_new_samples_pred))\n"
   ]
  },
  {
   "cell_type": "code",
   "execution_count": 7,
   "id": "c8a83b19-c1f4-4847-ac5a-2971f4c2817f",
   "metadata": {},
   "outputs": [
    {
     "name": "stdout",
     "output_type": "stream",
     "text": [
      "Model Grading on New Spam Texts:\n",
      "                                                   Text  Actual Label  \\\n",
      "5171  Congratulations! You've won a free **iPhone**!...             1   \n",
      "5172  Dear customer, your account has been compromis...             1   \n",
      "5173  Get your free trial of our service! **Limited ...             1   \n",
      "5174  Your account will be suspended. *Act now* to a...             1   \n",
      "5175  Special offer just for you! **Free shipping** ...             1   \n",
      "5176  Hurry up! This is your last chance to get **50...             1   \n",
      "5177  ⚠️ Warning: Your email account will be locked ...             1   \n",
      "5178  You've been selected for a **VIP** experience!...             1   \n",
      "5179  Get *instant access* to our premium content. S...             1   \n",
      "5180  Your package is on hold. Please confirm your a...             1   \n",
      "\n",
      "      Predicted Label  Spam Probability  Legitimate Probability  \n",
      "5171                1          0.656277                0.343723  \n",
      "5172                1          0.504316                0.495684  \n",
      "5173                1          0.699224                0.300776  \n",
      "5174                0          0.378024                0.621976  \n",
      "5175                1          0.688833                0.311167  \n",
      "5176                0          0.247285                0.752715  \n",
      "5177                0          0.362384                0.637616  \n",
      "5178                1          0.601963                0.398037  \n",
      "5179                0          0.359748                0.640252  \n",
      "5180                0          0.218558                0.781442  \n"
     ]
    }
   ],
   "source": [
    "# Predict probabilities on the new samples\n",
    "y_new_samples_prob = model.predict_proba(X_new_samples_tfidf)\n",
    "\n",
    "# Create a DataFrame to display the results\n",
    "df_results = pd.DataFrame({\n",
    "    'Text': X_new_samples,\n",
    "    'Actual Label': y_new_samples,\n",
    "    'Predicted Label': y_new_samples_pred,\n",
    "    'Spam Probability': y_new_samples_prob[:, 1],  # Probability of being spam\n",
    "    'Legitimate Probability': y_new_samples_prob[:, 0]  # Probability of being legitimate\n",
    "})\n",
    "\n",
    "# Display the results\n",
    "print(\"Model Grading on New Spam Texts:\")\n",
    "print(df_results[['Text', 'Actual Label', 'Predicted Label', 'Spam Probability', 'Legitimate Probability']])\n"
   ]
  },
  {
   "cell_type": "code",
   "execution_count": null,
   "id": "a3df977b-b147-472b-b332-d464ac73ab2b",
   "metadata": {},
   "outputs": [],
   "source": [
    "#What if its not a spam?"
   ]
  },
  {
   "cell_type": "code",
   "execution_count": 9,
   "id": "31efa316-bb3d-4ae0-b9d2-f5c5d3762270",
   "metadata": {},
   "outputs": [
    {
     "name": "stdout",
     "output_type": "stream",
     "text": [
      "Overall Test Set Evaluation:\n",
      "              precision    recall  f1-score   support\n",
      "\n",
      "           0       0.88      1.00      0.94       726\n",
      "           1       1.00      0.69      0.81       311\n",
      "\n",
      "    accuracy                           0.91      1037\n",
      "   macro avg       0.94      0.84      0.88      1037\n",
      "weighted avg       0.92      0.91      0.90      1037\n",
      "\n",
      "Accuracy: 0.90549662487946\n"
     ]
    },
    {
     "ename": "NameError",
     "evalue": "name 'df_apple_coupon' is not defined",
     "output_type": "error",
     "traceback": [
      "\u001b[0;31m---------------------------------------------------------------------------\u001b[0m",
      "\u001b[0;31mNameError\u001b[0m                                 Traceback (most recent call last)",
      "Cell \u001b[0;32mIn[9], line 13\u001b[0m\n\u001b[1;32m     10\u001b[0m \u001b[38;5;28mprint\u001b[39m(\u001b[38;5;124m\"\u001b[39m\u001b[38;5;124mAccuracy:\u001b[39m\u001b[38;5;124m\"\u001b[39m, accuracy_score(y_test, y_pred))\n\u001b[1;32m     12\u001b[0m \u001b[38;5;66;03m# Check the model's prediction for the new Apple coupon email specifically\u001b[39;00m\n\u001b[0;32m---> 13\u001b[0m new_apple_coupon_pred \u001b[38;5;241m=\u001b[39m pipeline\u001b[38;5;241m.\u001b[39mpredict(df_apple_coupon[[\u001b[38;5;124m'\u001b[39m\u001b[38;5;124memail\u001b[39m\u001b[38;5;124m'\u001b[39m, \u001b[38;5;124m'\u001b[39m\u001b[38;5;124mtext\u001b[39m\u001b[38;5;124m'\u001b[39m, \u001b[38;5;124m'\u001b[39m\u001b[38;5;124mis_verified\u001b[39m\u001b[38;5;124m'\u001b[39m, \u001b[38;5;124m'\u001b[39m\u001b[38;5;124mcontains_code\u001b[39m\u001b[38;5;124m'\u001b[39m]])\n\u001b[1;32m     14\u001b[0m new_apple_coupon_prob \u001b[38;5;241m=\u001b[39m pipeline\u001b[38;5;241m.\u001b[39mpredict_proba(df_apple_coupon[[\u001b[38;5;124m'\u001b[39m\u001b[38;5;124memail\u001b[39m\u001b[38;5;124m'\u001b[39m, \u001b[38;5;124m'\u001b[39m\u001b[38;5;124mtext\u001b[39m\u001b[38;5;124m'\u001b[39m, \u001b[38;5;124m'\u001b[39m\u001b[38;5;124mis_verified\u001b[39m\u001b[38;5;124m'\u001b[39m, \u001b[38;5;124m'\u001b[39m\u001b[38;5;124mcontains_code\u001b[39m\u001b[38;5;124m'\u001b[39m]])\n\u001b[1;32m     16\u001b[0m \u001b[38;5;28mprint\u001b[39m(\u001b[38;5;124m\"\u001b[39m\u001b[38;5;130;01m\\n\u001b[39;00m\u001b[38;5;124mModel Evaluation for the New Apple Coupon Email:\u001b[39m\u001b[38;5;124m\"\u001b[39m)\n",
      "\u001b[0;31mNameError\u001b[0m: name 'df_apple_coupon' is not defined"
     ]
    }
   ],
   "source": [
    "\n",
    "# Retrain the model using the updated pipeline\n",
    "pipeline.fit(X_train, y_train)\n",
    "\n",
    "# Predict on the test set\n",
    "y_pred = pipeline.predict(X_test)\n",
    "\n",
    "# Evaluate the model on the entire updated test set\n",
    "print(\"Overall Test Set Evaluation:\")\n",
    "print(classification_report(y_test, y_pred))\n",
    "print(\"Accuracy:\", accuracy_score(y_test, y_pred))\n",
    "\n",
    "# Check the model's prediction for the new Apple coupon email specifically\n",
    "new_apple_coupon_pred = pipeline.predict(df_apple_coupon[['email', 'text', 'is_verified', 'contains_code']])\n",
    "new_apple_coupon_prob = pipeline.predict_proba(df_apple_coupon[['email', 'text', 'is_verified', 'contains_code']])\n",
    "\n",
    "print(\"\\nModel Evaluation for the New Apple Coupon Email:\")\n",
    "print(f\"Text: {new_legit_email_text_coupon}\")\n",
    "print(f\"Email: no-reply@apple.com\")\n",
    "print(f\"Actual Label: 0\")\n",
    "print(f\"Predicted Label: {new_apple_coupon_pred[0]}\")\n",
    "print(f\"Spam Probability: {new_apple_coupon_prob[0][1]:.6f}\")\n",
    "print(f\"Legitimate Probability: {new_apple_coupon_prob[0][0]:.6f}\")\n",
    "            "
   ]
  },
  {
   "cell_type": "markdown",
   "id": "461bf062-25bb-487e-b4e8-07c975d4e0c4",
   "metadata": {},
   "source": [
    "# Adding a email verification source & link support"
   ]
  },
  {
   "cell_type": "code",
   "execution_count": 11,
   "id": "722431db-4c93-49ee-aae8-87d661a39124",
   "metadata": {},
   "outputs": [],
   "source": [
    "import re\n",
    "\n",
    "# Function to check if the text contains a coupon code\n",
    "def contains_code(text):\n",
    "    # A simple regex to detect codes (you can make this more sophisticated)\n",
    "    code_pattern = re.compile(r'\\b[A-Z0-9]{4,}\\b')\n",
    "    return bool(code_pattern.search(text))\n",
    "\n",
    "# Add a new feature to the dataset indicating if the text contains a code\n",
    "df_combined['contains_code'] = df_combined['text'].apply(contains_code)\n"
   ]
  },
  {
   "cell_type": "code",
   "execution_count": 13,
   "id": "06938eb7-f6ed-45ae-839b-44abd04ac42d",
   "metadata": {},
   "outputs": [
    {
     "ename": "NameError",
     "evalue": "name 'ColumnTransformer' is not defined",
     "output_type": "error",
     "traceback": [
      "\u001b[0;31m---------------------------------------------------------------------------\u001b[0m",
      "\u001b[0;31mNameError\u001b[0m                                 Traceback (most recent call last)",
      "Cell \u001b[0;32mIn[13], line 9\u001b[0m\n\u001b[1;32m      6\u001b[0m     \u001b[38;5;28;01mreturn\u001b[39;00m np\u001b[38;5;241m.\u001b[39marray(X)\u001b[38;5;241m.\u001b[39mreshape(\u001b[38;5;241m-\u001b[39m\u001b[38;5;241m1\u001b[39m, \u001b[38;5;241m1\u001b[39m)\n\u001b[1;32m      8\u001b[0m \u001b[38;5;66;03m# Update the preprocessor to include the reshaping for the new features\u001b[39;00m\n\u001b[0;32m----> 9\u001b[0m preprocessor \u001b[38;5;241m=\u001b[39m ColumnTransformer(\n\u001b[1;32m     10\u001b[0m     transformers\u001b[38;5;241m=\u001b[39m[\n\u001b[1;32m     11\u001b[0m         (\u001b[38;5;124m'\u001b[39m\u001b[38;5;124memail_tfidf\u001b[39m\u001b[38;5;124m'\u001b[39m, TfidfVectorizer(), \u001b[38;5;124m'\u001b[39m\u001b[38;5;124memail\u001b[39m\u001b[38;5;124m'\u001b[39m),\n\u001b[1;32m     12\u001b[0m         (\u001b[38;5;124m'\u001b[39m\u001b[38;5;124mtext_tfidf\u001b[39m\u001b[38;5;124m'\u001b[39m, TfidfVectorizer(stop_words\u001b[38;5;241m=\u001b[39m\u001b[38;5;124m'\u001b[39m\u001b[38;5;124menglish\u001b[39m\u001b[38;5;124m'\u001b[39m, max_df\u001b[38;5;241m=\u001b[39m\u001b[38;5;241m0.7\u001b[39m), \u001b[38;5;124m'\u001b[39m\u001b[38;5;124mtext\u001b[39m\u001b[38;5;124m'\u001b[39m),\n\u001b[1;32m     13\u001b[0m         (\u001b[38;5;124m'\u001b[39m\u001b[38;5;124mis_verified\u001b[39m\u001b[38;5;124m'\u001b[39m, FunctionTransformer(reshape_to_2d, validate\u001b[38;5;241m=\u001b[39m\u001b[38;5;28;01mFalse\u001b[39;00m), \u001b[38;5;124m'\u001b[39m\u001b[38;5;124mis_verified\u001b[39m\u001b[38;5;124m'\u001b[39m),\n\u001b[1;32m     14\u001b[0m         (\u001b[38;5;124m'\u001b[39m\u001b[38;5;124mcontains_code\u001b[39m\u001b[38;5;124m'\u001b[39m, FunctionTransformer(reshape_to_2d, validate\u001b[38;5;241m=\u001b[39m\u001b[38;5;28;01mFalse\u001b[39;00m), \u001b[38;5;124m'\u001b[39m\u001b[38;5;124mcontains_code\u001b[39m\u001b[38;5;124m'\u001b[39m),\n\u001b[1;32m     15\u001b[0m     ]\n\u001b[1;32m     16\u001b[0m )\n",
      "\u001b[0;31mNameError\u001b[0m: name 'ColumnTransformer' is not defined"
     ]
    }
   ],
   "source": [
    "\n",
    "from sklearn.preprocessing import FunctionTransformer\n",
    "import numpy as np\n",
    "\n",
    "# Define a transformer that reshapes the input to 2D\n",
    "def reshape_to_2d(X):\n",
    "    return np.array(X).reshape(-1, 1)\n",
    "\n",
    "# Update the preprocessor to include the reshaping for the new features\n",
    "preprocessor = ColumnTransformer(\n",
    "    transformers=[\n",
    "        ('email_tfidf', TfidfVectorizer(), 'email'),\n",
    "        ('text_tfidf', TfidfVectorizer(stop_words='english', max_df=0.7), 'text'),\n",
    "        ('is_verified', FunctionTransformer(reshape_to_2d, validate=False), 'is_verified'),\n",
    "        ('contains_code', FunctionTransformer(reshape_to_2d, validate=False), 'contains_code'),\n",
    "    ]\n",
    ")\n",
    "            "
   ]
  },
  {
   "cell_type": "markdown",
   "id": "e0666565-81c6-4d71-a227-9db43274db8e",
   "metadata": {},
   "source": [
    "# Adding an email client to the training pipeline"
   ]
  },
  {
   "cell_type": "code",
   "execution_count": 23,
   "id": "80d7c14f-a8b7-4369-bf79-3a2f37febf85",
   "metadata": {},
   "outputs": [
    {
     "name": "stdout",
     "output_type": "stream",
     "text": [
      "   Unnamed: 0 label                                               text  \\\n",
      "0         605   ham  Subject: enron methanol ; meter # : 988291\\r\\n...   \n",
      "1        2349   ham  Subject: hpl nom for january 9 , 2001\\r\\n( see...   \n",
      "2        3624   ham  Subject: neon retreat\\r\\nho ho ho , we ' re ar...   \n",
      "3        4685  spam  Subject: photoshop , windows , office . cheap ...   \n",
      "4        2030   ham  Subject: re : indian springs\\r\\nthis deal is t...   \n",
      "\n",
      "   label_num        email_source  \n",
      "0          0    jane78@gmail.com  \n",
      "1          0                work  \n",
      "2          0        subscription  \n",
      "3          1  alex66@hotmail.com  \n",
      "4          0        subscription  \n"
     ]
    }
   ],
   "source": [
    "import pandas as pd\n",
    "import random\n",
    "import re\n",
    "\n",
    "# Load the existing CSV file\n",
    "data = pd.read_csv('spam.csv')\n",
    "\n",
    "# Function to generate a random email address\n",
    "def generate_random_email():\n",
    "    domains = ['gmail.com', 'yahoo.com', 'hotmail.com', 'company.com']\n",
    "    names = ['john', 'jane', 'alex', 'sam', 'chris', 'pat']\n",
    "    return f\"{random.choice(names)}{random.randint(10,99)}@{random.choice(domains)}\"\n",
    "\n",
    "# Create a list of predefined email sources and add random emails\n",
    "def generate_email_source():\n",
    "    sources = ['work', 'personal', 'subscription', generate_random_email()]\n",
    "    return random.choice(sources)\n",
    "\n",
    "# Apply the function to each row in the dataframe\n",
    "data['email_source'] = [generate_email_source() for _ in range(len(data))]\n",
    "\n",
    "# Save the updated DataFrame back to a CSV file (optional)\n",
    "data.to_csv('spam_with_random_sources.csv', index=False)\n",
    "\n",
    "# Display the first few rows of the updated DataFrame\n",
    "print(data.head())\n"
   ]
  },
  {
   "cell_type": "code",
   "execution_count": 35,
   "id": "b8930e85-88c3-4111-ac12-bb546c80b624",
   "metadata": {},
   "outputs": [
    {
     "data": {
      "text/plain": [
       "(0.9381642512077295,\n",
       " '              precision    recall  f1-score   support\\n\\n           0       0.97      0.94      0.96       742\\n           1       0.87      0.92      0.89       293\\n\\n    accuracy                           0.94      1035\\n   macro avg       0.92      0.93      0.93      1035\\nweighted avg       0.94      0.94      0.94      1035\\n')"
      ]
     },
     "execution_count": 35,
     "metadata": {},
     "output_type": "execute_result"
    }
   ],
   "source": [
    "import pandas as pd\n",
    "from sklearn.compose import ColumnTransformer\n",
    "from sklearn.pipeline import Pipeline\n",
    "from sklearn.naive_bayes import MultinomialNB\n",
    "from sklearn.feature_extraction.text import TfidfVectorizer\n",
    "from sklearn.preprocessing import OneHotEncoder\n",
    "from sklearn.model_selection import train_test_split\n",
    "from sklearn.metrics import classification_report, accuracy_score\n",
    "\n",
    "# Load the updated dataset\n",
    "data = pd.read_csv('spam_with_random_sources.csv')\n",
    "\n",
    "# Separate features and target\n",
    "X = data[['text', 'email_source']]  # Ensure X is a DataFrame\n",
    "y = data['label_num']  # Ensure y is a Series\n",
    "\n",
    "# Split the data\n",
    "X_train, X_test, y_train, y_test = train_test_split(X, y, test_size=0.2, random_state=42)\n",
    "\n",
    "# Create a column transformer to handle both text and categorical data\n",
    "preprocessor = ColumnTransformer(\n",
    "    transformers=[\n",
    "        ('text', TfidfVectorizer(max_features=1000, ngram_range=(1, 2)), 'text'),\n",
    "        ('source', OneHotEncoder(handle_unknown='ignore'), ['email_source'])  # Pass the column name as a list\n",
    "    ])\n",
    "\n",
    "# Create the pipeline with the preprocessor and the classifier\n",
    "model = Pipeline([\n",
    "    ('preprocessor', preprocessor),\n",
    "    ('clf', MultinomialNB())\n",
    "])\n",
    "\n",
    "# Train the model\n",
    "model.fit(X_train, y_train)\n",
    "\n",
    "# Evaluate the model\n",
    "y_pred = model.predict(X_test)\n",
    "accuracy = accuracy_score(y_test, y_pred)\n",
    "classification_rep = classification_report(y_test, y_pred)\n",
    "\n",
    "accuracy, classification_rep\n"
   ]
  },
  {
   "cell_type": "code",
   "execution_count": 38,
   "id": "c99a49fe-de7e-41a8-ab42-0b06b85241ae",
   "metadata": {},
   "outputs": [
    {
     "data": {
      "text/plain": [
       "((3102, 2), (1034, 2), (1035, 2))"
      ]
     },
     "execution_count": 38,
     "metadata": {},
     "output_type": "execute_result"
    }
   ],
   "source": [
    "from sklearn.model_selection import train_test_split\n",
    "\n",
    "# Initial split to separate out the test set\n",
    "X_train_val, X_test, y_train_val, y_test = train_test_split(X, y, test_size=0.2, random_state=42)\n",
    "\n",
    "# Further split the training data to create a validation set\n",
    "X_train, X_val, y_train, y_val = train_test_split(X_train_val, y_train_val, test_size=0.25, random_state=42)  # 0.25 * 0.8 = 0.2\n",
    "\n",
    "X_train.shape, X_val.shape, X_test.shape\n"
   ]
  },
  {
   "cell_type": "code",
   "execution_count": 40,
   "id": "60bb701f-4404-4366-a523-757f6f01c9dc",
   "metadata": {},
   "outputs": [
    {
     "data": {
      "image/png": "[encoded data removed]",
      "text/plain": [
       "<Figure size 1000x600 with 1 Axes>"
      ]
     },
     "metadata": {},
     "output_type": "display_data"
    }
   ],
   "source": [
    "import matplotlib.pyplot as plt\n",
    "from sklearn.model_selection import learning_curve\n",
    "\n",
    "# Reuse the preprocessor and model pipeline\n",
    "model = Pipeline([\n",
    "    ('preprocessor', preprocessor),\n",
    "    ('clf', MultinomialNB())\n",
    "])\n",
    "\n",
    "# Calculate learning curve\n",
    "train_sizes, train_scores, val_scores = learning_curve(\n",
    "    model, X_train_val, y_train_val, cv=5, n_jobs=-1, \n",
    "    train_sizes=np.linspace(0.1, 1.0, 10), scoring='accuracy'\n",
    ")\n",
    "\n",
    "# Calculate mean and standard deviation for training and validation scores\n",
    "train_mean = np.mean(train_scores, axis=1)\n",
    "train_std = np.std(train_scores, axis=1)\n",
    "val_mean = np.mean(val_scores, axis=1)\n",
    "val_std = np.std(val_scores, axis=1)\n",
    "\n",
    "# Plot the learning curve\n",
    "plt.figure(figsize=(10, 6))\n",
    "plt.plot(train_sizes, train_mean, 'o-', color=\"r\", label=\"Training score\")\n",
    "plt.plot(train_sizes, val_mean, 'o-', color=\"g\", label=\"Cross-validation score\")\n",
    "\n",
    "plt.fill_between(train_sizes, train_mean - train_std, train_mean + train_std, alpha=0.1, color=\"r\")\n",
    "plt.fill_between(train_sizes, val_mean - val_std, val_mean + val_std, alpha=0.1, color=\"g\")\n",
    "\n",
    "plt.title('Learning Curve')\n",
    "plt.xlabel('Training Set Size')\n",
    "plt.ylabel('Accuracy Score')\n",
    "plt.legend(loc=\"best\")\n",
    "plt.grid()\n",
    "plt.show()\n"
   ]
  },
  {
   "cell_type": "code",
   "execution_count": 42,
   "id": "1cfe2e5b-dead-4aa9-88ac-27fc00802ab6",
   "metadata": {},
   "outputs": [
    {
     "data": {
      "image/png": "[encoded data removed]",
      "text/plain": [
       "<Figure size 640x480 with 2 Axes>"
      ]
     },
     "metadata": {},
     "output_type": "display_data"
    }
   ],
   "source": [
    "from sklearn.metrics import confusion_matrix, ConfusionMatrixDisplay\n",
    "\n",
    "# Train the model on the combined train + validation set\n",
    "model.fit(X_train_val, y_train_val)\n",
    "\n",
    "# Predict on the test set\n",
    "y_test_pred = model.predict(X_test)\n",
    "\n",
    "# Compute confusion matrix\n",
    "cm = confusion_matrix(y_test, y_test_pred)\n",
    "\n",
    "# Plot confusion matrix\n",
    "disp = ConfusionMatrixDisplay(confusion_matrix=cm, display_labels=model.classes_)\n",
    "disp.plot(cmap=plt.cm.Blues)\n",
    "plt.title(\"Confusion Matrix - Bulls-Eye Plot\")\n",
    "plt.show()\n"
   ]
  },
  {
   "cell_type": "code",
   "execution_count": null,
   "id": "49183b19-4488-47a7-9e6d-c4f492336c53",
   "metadata": {},
   "outputs": [],
   "source": []
  }
 ],
 "metadata": {
  "kernelspec": {
   "display_name": "Python 3 (ipykernel)",
   "language": "python",
   "name": "python3"
  },
  "language_info": {
   "codemirror_mode": {
    "name": "ipython",
    "version": 3
   },
   "file_extension": ".py",
   "mimetype": "text/x-python",
   "name": "python",
   "nbconvert_exporter": "python",
   "pygments_lexer": "ipython3",
   "version": "3.12.4"
  }
 },
 "nbformat": 4,
 "nbformat_minor": 5
}
